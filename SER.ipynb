{
 "cells": [
  {
   "cell_type": "code",
   "execution_count": 1,
   "metadata": {},
   "outputs": [],
   "source": [
    "import numpy as np\n",
    "import pandas as pd\n",
    "import librosa\n",
    "import os\n",
    "from tqdm import tqdm\n",
    "from sklearn.preprocessing import LabelEncoder\n",
    "from keras.utils import to_categorical\n",
    "from sklearn.model_selection import train_test_split"
   ]
  },
  {
   "cell_type": "markdown",
   "metadata": {},
   "source": [
    "We have used TESS dataset, CREMA-D dataset, RAVDESS dataset"
   ]
  },
  {
   "cell_type": "markdown",
   "metadata": {},
   "source": [
    "**Data Preprocessing**"
   ]
  },
  {
   "cell_type": "code",
   "execution_count": 2,
   "metadata": {},
   "outputs": [],
   "source": [
    "# # Check if the feature extraction function is returning valid features\n",
    "# def extract_features(file_name):\n",
    "#     try:\n",
    "#         audio, sample_rate = librosa.load(file_name, res_type='kaiser_fast')\n",
    "#         mfccs = librosa.feature.mfcc(y=audio, sr=sample_rate, n_mfcc=40)\n",
    "#         mfccs_scaled = np.mean(mfccs.T, axis=0)\n",
    "#         return mfccs_scaled\n",
    "#     except Exception as e:\n",
    "#         print(\"Error encountered while parsing file: \", file_name)\n",
    "#         return None\n",
    "\n",
    "# # Test the function with one file\n",
    "# sample_file = os.path.join(\"C:/Users/Lenovo/OneDrive/Desktop/SpeechEmotion/Organised_CREMA-D\", 'anger', '1001_DFA_ANG_XX.wav')\n",
    "# features = extract_features(sample_file)\n",
    "# print(f\"Features for {sample_file}: {features}\")\n"
   ]
  },
  {
   "cell_type": "code",
   "execution_count": 3,
   "metadata": {},
   "outputs": [],
   "source": [
    "# # Print the data path and directory structure\n",
    "# print(f\"Data Path: {data_path}\")\n",
    "# print(f\"Directory Structure: {os.listdir(data_path)}\")\n",
    "# for emotion in os.listdir(data_path):\n",
    "#     print(f\"{emotion} files: {os.listdir(os.path.join(data_path, emotion))[:5]}\")"
   ]
  },
  {
   "cell_type": "code",
   "execution_count": 4,
   "metadata": {},
   "outputs": [],
   "source": [
    "# Function to load audio files and extract features\n",
    "def extract_features(file_name):\n",
    "    try:\n",
    "        audio, sample_rate = librosa.load(file_name, res_type='kaiser_fast')\n",
    "        mfccs = librosa.feature.mfcc(y=audio, sr=sample_rate, n_mfcc=40)\n",
    "        mfccs_scaled = np.mean(mfccs.T, axis=0)\n",
    "        return mfccs_scaled\n",
    "    except Exception as e:\n",
    "        print(\"Error encountered while parsing file: \", file_name)\n",
    "        return None"
   ]
  },
  {
   "cell_type": "code",
   "execution_count": 5,
   "metadata": {},
   "outputs": [],
   "source": [
    "# Data loading and preprocessing\n",
    "def load_data(data_path):\n",
    "    features = []\n",
    "    for emotion in os.listdir(data_path):\n",
    "        emotion_path = os.path.join(data_path, emotion)\n",
    "        if os.path.isdir(emotion_path):\n",
    "            for file_name in tqdm(os.listdir(emotion_path)):\n",
    "                if file_name.endswith('.wav'):\n",
    "                    feature = extract_features(os.path.join(emotion_path, file_name))\n",
    "                    if feature is not None:\n",
    "                        features.append([feature, emotion])\n",
    "    \n",
    "    return pd.DataFrame(features, columns=['feature', 'emotion'])"
   ]
  },
  {
   "cell_type": "code",
   "execution_count": 6,
   "metadata": {},
   "outputs": [
    {
     "name": "stderr",
     "output_type": "stream",
     "text": [
      "100%|██████████| 9315/9315 [02:05<00:00, 74.41it/s]\n",
      "100%|██████████| 9315/9315 [02:00<00:00, 77.37it/s]\n",
      "100%|██████████| 9315/9315 [01:55<00:00, 80.36it/s]\n",
      "100%|██████████| 9315/9315 [02:19<00:00, 66.96it/s]\n",
      "100%|██████████| 7915/7915 [02:01<00:00, 65.09it/s]\n",
      "100%|██████████| 9315/9315 [02:29<00:00, 62.25it/s]\n"
     ]
    }
   ],
   "source": [
    "data_path = 'C:/Users/Lenovo/OneDrive/Desktop/SpeechEmotion/Organised_CREMA-D'  # Update with your path\n",
    "data = load_data(data_path)"
   ]
  },
  {
   "cell_type": "code",
   "execution_count": 7,
   "metadata": {},
   "outputs": [
    {
     "name": "stdout",
     "output_type": "stream",
     "text": [
      "Data loaded: 54490 samples\n",
      "                                             feature emotion\n",
      "0  [-683.20245, 64.19206, -5.3122115, 17.506668, ...   anger\n",
      "1  [-681.3284, 65.7901, -3.123772, 19.140762, 5.4...   anger\n",
      "2  [-309.91708, 4.3345914, 4.90794, 4.2519927, 1....   anger\n",
      "3  [-697.06793, 65.16272, -2.8511467, 19.831451, ...   anger\n",
      "4  [-708.91943, 64.588356, -1.2230228, 19.841986,...   anger\n"
     ]
    }
   ],
   "source": [
    "# Check if data is loaded correctly\n",
    "print(f\"Data loaded: {data.shape[0]} samples\")\n",
    "if data.empty:\n",
    "    print(\"Data loading failed. No data found.\")\n",
    "else:\n",
    "    print(data.head())"
   ]
  },
  {
   "cell_type": "code",
   "execution_count": 8,
   "metadata": {},
   "outputs": [
    {
     "data": {
      "text/html": [
       "<div>\n",
       "<style scoped>\n",
       "    .dataframe tbody tr th:only-of-type {\n",
       "        vertical-align: middle;\n",
       "    }\n",
       "\n",
       "    .dataframe tbody tr th {\n",
       "        vertical-align: top;\n",
       "    }\n",
       "\n",
       "    .dataframe thead th {\n",
       "        text-align: right;\n",
       "    }\n",
       "</style>\n",
       "<table border=\"1\" class=\"dataframe\">\n",
       "  <thead>\n",
       "    <tr style=\"text-align: right;\">\n",
       "      <th></th>\n",
       "      <th>feature</th>\n",
       "      <th>emotion</th>\n",
       "    </tr>\n",
       "  </thead>\n",
       "  <tbody>\n",
       "    <tr>\n",
       "      <th>0</th>\n",
       "      <td>[-683.20245, 64.19206, -5.3122115, 17.506668, ...</td>\n",
       "      <td>anger</td>\n",
       "    </tr>\n",
       "    <tr>\n",
       "      <th>1</th>\n",
       "      <td>[-681.3284, 65.7901, -3.123772, 19.140762, 5.4...</td>\n",
       "      <td>anger</td>\n",
       "    </tr>\n",
       "    <tr>\n",
       "      <th>2</th>\n",
       "      <td>[-309.91708, 4.3345914, 4.90794, 4.2519927, 1....</td>\n",
       "      <td>anger</td>\n",
       "    </tr>\n",
       "    <tr>\n",
       "      <th>3</th>\n",
       "      <td>[-697.06793, 65.16272, -2.8511467, 19.831451, ...</td>\n",
       "      <td>anger</td>\n",
       "    </tr>\n",
       "    <tr>\n",
       "      <th>4</th>\n",
       "      <td>[-708.91943, 64.588356, -1.2230228, 19.841986,...</td>\n",
       "      <td>anger</td>\n",
       "    </tr>\n",
       "  </tbody>\n",
       "</table>\n",
       "</div>"
      ],
      "text/plain": [
       "                                             feature emotion\n",
       "0  [-683.20245, 64.19206, -5.3122115, 17.506668, ...   anger\n",
       "1  [-681.3284, 65.7901, -3.123772, 19.140762, 5.4...   anger\n",
       "2  [-309.91708, 4.3345914, 4.90794, 4.2519927, 1....   anger\n",
       "3  [-697.06793, 65.16272, -2.8511467, 19.831451, ...   anger\n",
       "4  [-708.91943, 64.588356, -1.2230228, 19.841986,...   anger"
      ]
     },
     "execution_count": 8,
     "metadata": {},
     "output_type": "execute_result"
    }
   ],
   "source": [
    "data.head()"
   ]
  },
  {
   "cell_type": "code",
   "execution_count": 9,
   "metadata": {},
   "outputs": [
    {
     "name": "stdout",
     "output_type": "stream",
     "text": [
      "Features shape: (54490, 40)\n",
      "Labels shape: (54490,)\n"
     ]
    }
   ],
   "source": [
    "# Encode the labels\n",
    "le = LabelEncoder()\n",
    "data['emotion'] = le.fit_transform(data['emotion'])\n",
    "X = np.array(data['feature'].tolist())\n",
    "y = np.array(data['emotion'].tolist())\n",
    "\n",
    "# Check if X and y are populated correctly\n",
    "print(f\"Features shape: {X.shape}\")\n",
    "print(f\"Labels shape: {y.shape}\")"
   ]
  },
  {
   "cell_type": "code",
   "execution_count": 10,
   "metadata": {},
   "outputs": [],
   "source": [
    "# Convert labels to categorical\n",
    "y = to_categorical(y)"
   ]
  },
  {
   "cell_type": "code",
   "execution_count": 11,
   "metadata": {},
   "outputs": [
    {
     "name": "stdout",
     "output_type": "stream",
     "text": [
      "[[1. 0. 0. 0. 0. 0.]\n",
      " [1. 0. 0. 0. 0. 0.]\n",
      " [1. 0. 0. 0. 0. 0.]\n",
      " ...\n",
      " [0. 0. 0. 0. 0. 1.]\n",
      " [0. 0. 0. 0. 0. 1.]\n",
      " [0. 0. 0. 0. 0. 1.]]\n"
     ]
    }
   ],
   "source": [
    "print(y)"
   ]
  },
  {
   "cell_type": "code",
   "execution_count": 12,
   "metadata": {},
   "outputs": [],
   "source": [
    "# Split the dataset\n",
    "X_train, X_test, y_train, y_test = train_test_split(X, y, test_size=0.25, random_state=42)"
   ]
  },
  {
   "cell_type": "code",
   "execution_count": 13,
   "metadata": {},
   "outputs": [
    {
     "name": "stdout",
     "output_type": "stream",
     "text": [
      "Training data shape: (40867, 40), (40867, 6)\n",
      "Test data shape: (13623, 40), (13623, 6)\n"
     ]
    }
   ],
   "source": [
    "print(f\"Training data shape: {X_train.shape}, {y_train.shape}\")\n",
    "print(f\"Test data shape: {X_test.shape}, {y_test.shape}\")"
   ]
  },
  {
   "cell_type": "markdown",
   "metadata": {},
   "source": [
    "**Data Visualization**"
   ]
  },
  {
   "cell_type": "code",
   "execution_count": 14,
   "metadata": {},
   "outputs": [
    {
     "name": "stderr",
     "output_type": "stream",
     "text": [
      "C:\\Users\\Lenovo\\AppData\\Local\\Temp\\ipykernel_21732\\981048768.py:7: FutureWarning: \n",
      "\n",
      "Passing `palette` without assigning `hue` is deprecated and will be removed in v0.14.0. Assign the `x` variable to `hue` and set `legend=False` for the same effect.\n",
      "\n",
      "  sns.barplot(x=le.inverse_transform(emotion_counts.index), y=emotion_counts, palette=palette)\n"
     ]
    },
    {
     "data": {
      "image/png": "[encoded data removed]",
      "text/plain": [
       "<Figure size 640x480 with 1 Axes>"
      ]
     },
     "metadata": {},
     "output_type": "display_data"
    }
   ],
   "source": [
    "import matplotlib.pyplot as plt\n",
    "import seaborn as sns\n",
    "\n",
    "# Get the count of each emotion\n",
    "emotion_counts = data['emotion'].value_counts()\n",
    "palette = sns.color_palette(\"hsv\", len(emotion_counts))\n",
    "sns.barplot(x=le.inverse_transform(emotion_counts.index), y=emotion_counts, palette=palette)\n",
    "plt.xlabel('Emotions')\n",
    "plt.ylabel('Count')\n",
    "plt.title('Distribution of Emotions')\n",
    "plt.show()\n"
   ]
  },
  {
   "cell_type": "markdown",
   "metadata": {},
   "source": [
    "**Data Augmentation**"
   ]
  },
  {
   "cell_type": "code",
   "execution_count": 15,
   "metadata": {},
   "outputs": [],
   "source": [
    "# import librosa\n",
    "# import soundfile as sf"
   ]
  },
  {
   "cell_type": "code",
   "execution_count": 16,
   "metadata": {},
   "outputs": [],
   "source": [
    "# dataset_path = 'C:/Users/Lenovo/OneDrive/Desktop/SpeechEmotion/Organised_CREMA-D'"
   ]
  },
  {
   "cell_type": "code",
   "execution_count": 17,
   "metadata": {},
   "outputs": [],
   "source": [
    "# # Function to augment audio data\n",
    "# def augment_data(audio, sample_rate):\n",
    "#     # Add white noise\n",
    "#     noise = np.random.randn(len(audio))\n",
    "#     audio_noise = audio + 0.005 * noise\n",
    "    \n",
    "#     # Time stretching\n",
    "#     audio_stretch = librosa.effects.time_stretch(audio, rate=0.8)\n",
    "    \n",
    "#     # Pitch shifting\n",
    "#     audio_shift = librosa.effects.pitch_shift(audio, sr=sample_rate, n_steps=2)\n",
    "    \n",
    "#     return [audio, audio_noise, audio_stretch, audio_shift]\n",
    "\n",
    "# # Iterate through each emotion folder\n",
    "# for emotion_folder in os.listdir(dataset_path):\n",
    "#     emotion_path = os.path.join(dataset_path, emotion_folder)\n",
    "#     if os.path.isdir(emotion_path):\n",
    "#         for filename in os.listdir(emotion_path):\n",
    "#             if filename.endswith('.wav'):\n",
    "#                 # Source path\n",
    "#                 src = os.path.join(emotion_path, filename)\n",
    "                \n",
    "#                 # Load the audio file\n",
    "#                 audio, sample_rate = librosa.load(src, res_type='kaiser_fast')\n",
    "                \n",
    "#                 # Perform data augmentation\n",
    "#                 augmented_audios = augment_data(audio, sample_rate)\n",
    "                \n",
    "#                 # Save the original and augmented audio files to the same folder with modified names\n",
    "#                 for i, augmented_audio in enumerate(augmented_audios):\n",
    "#                     augmented_filename = f\"{filename.split('.wav')[0]}_aug{i}.wav\"\n",
    "#                     dst = os.path.join(emotion_path, augmented_filename)\n",
    "#                     sf.write(dst, augmented_audio, sample_rate)\n",
    "#                     print(f'Saved {augmented_filename} in {emotion_folder} folder')\n",
    "\n",
    "# print('Data augmentation completed successfully.')"
   ]
  },
  {
   "cell_type": "code",
   "execution_count": 18,
   "metadata": {},
   "outputs": [],
   "source": [
    "# # Add these features to your training data\n",
    "# X_augmented = np.array(features)\n",
    "# y_augmented = np.array([label] * len(features))  # Assuming 'label' is the correct label for this audio\n",
    "\n",
    "# X_train = np.vstack((X_train, X_augmented))\n",
    "# y_train = np.hstack((y_train, y_augmented))"
   ]
  },
  {
   "cell_type": "markdown",
   "metadata": {},
   "source": [
    "**Model Building**"
   ]
  },
  {
   "cell_type": "code",
   "execution_count": 19,
   "metadata": {},
   "outputs": [],
   "source": [
    "from tensorflow.keras.models import Sequential\n",
    "from tensorflow.keras.layers import Conv1D, MaxPooling1D, BatchNormalization, Dropout, LSTM, Dense, Flatten\n",
    "from tensorflow.keras.regularizers import l2"
   ]
  },
  {
   "cell_type": "code",
   "execution_count": 20,
   "metadata": {},
   "outputs": [],
   "source": [
    "# Model architecture with more layers and increased capacity\n",
    "model = Sequential()\n",
    "\n",
    "# Convolutional layers\n",
    "model.add(Conv1D(128, kernel_size=3, activation='relu', input_shape=(40, 1), kernel_regularizer=l2(0.001)))\n",
    "model.add(BatchNormalization())\n",
    "model.add(MaxPooling1D(pool_size=2))\n",
    "model.add(Dropout(0.3))\n",
    "\n",
    "model.add(Conv1D(256, kernel_size=3, activation='relu', kernel_regularizer=l2(0.001)))\n",
    "model.add(BatchNormalization())\n",
    "model.add(MaxPooling1D(pool_size=2))\n",
    "model.add(Dropout(0.3))\n",
    "\n",
    "model.add(Conv1D(512, kernel_size=3, activation='relu', kernel_regularizer=l2(0.001)))\n",
    "model.add(BatchNormalization())\n",
    "model.add(MaxPooling1D(pool_size=2))\n",
    "model.add(Dropout(0.3))\n",
    "\n",
    "# LSTM layers\n",
    "model.add(LSTM(256, return_sequences=True, kernel_regularizer=l2(0.001)))\n",
    "model.add(Dropout(0.3))\n",
    "\n",
    "model.add(LSTM(128, return_sequences=False, kernel_regularizer=l2(0.001)))\n",
    "model.add(Dropout(0.3))\n",
    "\n",
    "# Flatten layer to transition from LSTM to Dense\n",
    "model.add(Flatten())\n",
    "\n",
    "# Dense layers\n",
    "model.add(Dense(256, activation='relu', kernel_regularizer=l2(0.001)))\n",
    "model.add(BatchNormalization())\n",
    "model.add(Dropout(0.5))\n",
    "\n",
    "model.add(Dense(128, activation='relu', kernel_regularizer=l2(0.001)))\n",
    "model.add(BatchNormalization())\n",
    "model.add(Dropout(0.5))\n",
    "\n",
    "model.add(Dense(y.shape[1], activation='softmax'))"
   ]
  },
  {
   "cell_type": "code",
   "execution_count": 21,
   "metadata": {},
   "outputs": [
    {
     "name": "stdout",
     "output_type": "stream",
     "text": [
      "Model: \"sequential\"\n",
      "_________________________________________________________________\n",
      " Layer (type)                Output Shape              Param #   \n",
      "=================================================================\n",
      " conv1d (Conv1D)             (None, 38, 128)           512       \n",
      "                                                                 \n",
      " batch_normalization (BatchN  (None, 38, 128)          512       \n",
      " ormalization)                                                   \n",
      "                                                                 \n",
      " max_pooling1d (MaxPooling1D  (None, 19, 128)          0         \n",
      " )                                                               \n",
      "                                                                 \n",
      " dropout (Dropout)           (None, 19, 128)           0         \n",
      "                                                                 \n",
      " conv1d_1 (Conv1D)           (None, 17, 256)           98560     \n",
      "                                                                 \n",
      " batch_normalization_1 (Batc  (None, 17, 256)          1024      \n",
      " hNormalization)                                                 \n",
      "                                                                 \n",
      " max_pooling1d_1 (MaxPooling  (None, 8, 256)           0         \n",
      " 1D)                                                             \n",
      "                                                                 \n",
      " dropout_1 (Dropout)         (None, 8, 256)            0         \n",
      "                                                                 \n",
      " conv1d_2 (Conv1D)           (None, 6, 512)            393728    \n",
      "                                                                 \n",
      " batch_normalization_2 (Batc  (None, 6, 512)           2048      \n",
      " hNormalization)                                                 \n",
      "                                                                 \n",
      " max_pooling1d_2 (MaxPooling  (None, 3, 512)           0         \n",
      " 1D)                                                             \n",
      "                                                                 \n",
      " dropout_2 (Dropout)         (None, 3, 512)            0         \n",
      "                                                                 \n",
      " lstm (LSTM)                 (None, 3, 256)            787456    \n",
      "                                                                 \n",
      " dropout_3 (Dropout)         (None, 3, 256)            0         \n",
      "                                                                 \n",
      " lstm_1 (LSTM)               (None, 128)               197120    \n",
      "                                                                 \n",
      " dropout_4 (Dropout)         (None, 128)               0         \n",
      "                                                                 \n",
      " flatten (Flatten)           (None, 128)               0         \n",
      "                                                                 \n",
      " dense (Dense)               (None, 256)               33024     \n",
      "                                                                 \n",
      " batch_normalization_3 (Batc  (None, 256)              1024      \n",
      " hNormalization)                                                 \n",
      "                                                                 \n",
      " dropout_5 (Dropout)         (None, 256)               0         \n",
      "                                                                 \n",
      " dense_1 (Dense)             (None, 128)               32896     \n",
      "                                                                 \n",
      " batch_normalization_4 (Batc  (None, 128)              512       \n",
      " hNormalization)                                                 \n",
      "                                                                 \n",
      " dropout_6 (Dropout)         (None, 128)               0         \n",
      "                                                                 \n",
      " dense_2 (Dense)             (None, 6)                 774       \n",
      "                                                                 \n",
      "=================================================================\n",
      "Total params: 1,549,190\n",
      "Trainable params: 1,546,630\n",
      "Non-trainable params: 2,560\n",
      "_________________________________________________________________\n"
     ]
    }
   ],
   "source": [
    "model.summary()"
   ]
  },
  {
   "cell_type": "code",
   "execution_count": 22,
   "metadata": {},
   "outputs": [],
   "source": [
    "# Reshape X_train and X_test for Conv1D layer\n",
    "X_train_reshaped = X_train.reshape(X_train.shape[0], X_train.shape[1], 1)\n",
    "X_test_reshaped = X_test.reshape(X_test.shape[0], X_test.shape[1], 1)"
   ]
  },
  {
   "cell_type": "code",
   "execution_count": 23,
   "metadata": {},
   "outputs": [],
   "source": [
    "# Compile the model\n",
    "model.compile(optimizer='adam', loss='categorical_crossentropy', metrics=['accuracy'])"
   ]
  },
  {
   "cell_type": "code",
   "execution_count": 24,
   "metadata": {},
   "outputs": [
    {
     "name": "stdout",
     "output_type": "stream",
     "text": [
      "Epoch 1/100\n",
      "639/639 [==============================] - 33s 44ms/step - loss: 3.3701 - accuracy: 0.3260 - val_loss: 2.5177 - val_accuracy: 0.4881\n",
      "Epoch 2/100\n",
      "639/639 [==============================] - 29s 45ms/step - loss: 2.3032 - accuracy: 0.4522 - val_loss: 1.9361 - val_accuracy: 0.5115\n",
      "Epoch 3/100\n",
      "639/639 [==============================] - 29s 45ms/step - loss: 1.8586 - accuracy: 0.4828 - val_loss: 1.6589 - val_accuracy: 0.5237\n",
      "Epoch 4/100\n",
      "639/639 [==============================] - 29s 45ms/step - loss: 1.6459 - accuracy: 0.4919 - val_loss: 1.5074 - val_accuracy: 0.5274\n",
      "Epoch 5/100\n",
      "639/639 [==============================] - 29s 45ms/step - loss: 1.5280 - accuracy: 0.5000 - val_loss: 1.4374 - val_accuracy: 0.5273\n",
      "Epoch 6/100\n",
      "639/639 [==============================] - 30s 47ms/step - loss: 1.4968 - accuracy: 0.5024 - val_loss: 1.4598 - val_accuracy: 0.5127\n",
      "Epoch 7/100\n",
      "639/639 [==============================] - 28s 44ms/step - loss: 1.4798 - accuracy: 0.5047 - val_loss: 1.4296 - val_accuracy: 0.5180\n",
      "Epoch 8/100\n",
      "639/639 [==============================] - 31s 48ms/step - loss: 1.4868 - accuracy: 0.5041 - val_loss: 1.4184 - val_accuracy: 0.5346\n",
      "Epoch 9/100\n",
      "639/639 [==============================] - 29s 46ms/step - loss: 1.4812 - accuracy: 0.5066 - val_loss: 1.3863 - val_accuracy: 0.5388\n",
      "Epoch 10/100\n",
      "639/639 [==============================] - 29s 46ms/step - loss: 1.4877 - accuracy: 0.5087 - val_loss: 1.4256 - val_accuracy: 0.5362\n",
      "Epoch 11/100\n",
      "639/639 [==============================] - 31s 48ms/step - loss: 1.4972 - accuracy: 0.5069 - val_loss: 1.4779 - val_accuracy: 0.5069\n",
      "Epoch 12/100\n",
      "639/639 [==============================] - 31s 49ms/step - loss: 1.4847 - accuracy: 0.5096 - val_loss: 1.4185 - val_accuracy: 0.5390\n",
      "Epoch 13/100\n",
      "639/639 [==============================] - 32s 50ms/step - loss: 1.4842 - accuracy: 0.5121 - val_loss: 1.4133 - val_accuracy: 0.5429\n",
      "Epoch 14/100\n",
      "639/639 [==============================] - 35s 56ms/step - loss: 1.4804 - accuracy: 0.5091 - val_loss: 1.4312 - val_accuracy: 0.5264\n",
      "Epoch 15/100\n",
      "639/639 [==============================] - 34s 53ms/step - loss: 1.4791 - accuracy: 0.5103 - val_loss: 1.4427 - val_accuracy: 0.5124\n",
      "Epoch 16/100\n",
      "639/639 [==============================] - 35s 56ms/step - loss: 1.4703 - accuracy: 0.5100 - val_loss: 1.4391 - val_accuracy: 0.5204\n",
      "Epoch 17/100\n",
      "639/639 [==============================] - 33s 52ms/step - loss: 1.4651 - accuracy: 0.5134 - val_loss: 1.3785 - val_accuracy: 0.5539\n",
      "Epoch 18/100\n",
      "639/639 [==============================] - 32s 51ms/step - loss: 1.4575 - accuracy: 0.5155 - val_loss: 1.4319 - val_accuracy: 0.5240\n",
      "Epoch 19/100\n",
      "639/639 [==============================] - 33s 51ms/step - loss: 1.4469 - accuracy: 0.5195 - val_loss: 1.3814 - val_accuracy: 0.5434\n",
      "Epoch 20/100\n",
      "639/639 [==============================] - 33s 52ms/step - loss: 1.4479 - accuracy: 0.5206 - val_loss: 1.3722 - val_accuracy: 0.5527\n",
      "Epoch 21/100\n",
      "639/639 [==============================] - 34s 53ms/step - loss: 1.4386 - accuracy: 0.5201 - val_loss: 1.4509 - val_accuracy: 0.4921\n",
      "Epoch 22/100\n",
      "639/639 [==============================] - 33s 52ms/step - loss: 1.4394 - accuracy: 0.5211 - val_loss: 1.3690 - val_accuracy: 0.5421\n",
      "Epoch 23/100\n",
      "639/639 [==============================] - 34s 53ms/step - loss: 1.4275 - accuracy: 0.5256 - val_loss: 1.4005 - val_accuracy: 0.5406\n",
      "Epoch 24/100\n",
      "639/639 [==============================] - 33s 52ms/step - loss: 1.4222 - accuracy: 0.5252 - val_loss: 1.3886 - val_accuracy: 0.5431\n",
      "Epoch 25/100\n",
      "639/639 [==============================] - 33s 52ms/step - loss: 1.4170 - accuracy: 0.5252 - val_loss: 1.3379 - val_accuracy: 0.5530\n",
      "Epoch 26/100\n",
      "639/639 [==============================] - 33s 51ms/step - loss: 1.4131 - accuracy: 0.5258 - val_loss: 1.3513 - val_accuracy: 0.5395\n",
      "Epoch 27/100\n",
      "639/639 [==============================] - 34s 53ms/step - loss: 1.4003 - accuracy: 0.5271 - val_loss: 1.3379 - val_accuracy: 0.5526\n",
      "Epoch 28/100\n",
      "639/639 [==============================] - 33s 51ms/step - loss: 1.3987 - accuracy: 0.5284 - val_loss: 1.3326 - val_accuracy: 0.5524\n",
      "Epoch 29/100\n",
      "639/639 [==============================] - 33s 51ms/step - loss: 1.3911 - accuracy: 0.5326 - val_loss: 1.3304 - val_accuracy: 0.5523\n",
      "Epoch 30/100\n",
      "639/639 [==============================] - 33s 51ms/step - loss: 1.3884 - accuracy: 0.5341 - val_loss: 1.3377 - val_accuracy: 0.5554\n",
      "Epoch 31/100\n",
      "639/639 [==============================] - 33s 52ms/step - loss: 1.3837 - accuracy: 0.5328 - val_loss: 1.3250 - val_accuracy: 0.5605\n",
      "Epoch 32/100\n",
      "639/639 [==============================] - 33s 52ms/step - loss: 1.3813 - accuracy: 0.5338 - val_loss: 1.3061 - val_accuracy: 0.5701\n",
      "Epoch 33/100\n",
      "639/639 [==============================] - 32s 51ms/step - loss: 1.3783 - accuracy: 0.5352 - val_loss: 1.3079 - val_accuracy: 0.5604\n",
      "Epoch 34/100\n",
      "639/639 [==============================] - 31s 49ms/step - loss: 1.3697 - accuracy: 0.5369 - val_loss: 1.3866 - val_accuracy: 0.5142\n",
      "Epoch 35/100\n",
      "639/639 [==============================] - 31s 48ms/step - loss: 1.3735 - accuracy: 0.5383 - val_loss: 1.3218 - val_accuracy: 0.5521\n",
      "Epoch 36/100\n",
      "639/639 [==============================] - 32s 49ms/step - loss: 1.3599 - accuracy: 0.5381 - val_loss: 1.2994 - val_accuracy: 0.5719\n",
      "Epoch 37/100\n",
      "639/639 [==============================] - 32s 50ms/step - loss: 1.3568 - accuracy: 0.5424 - val_loss: 1.2830 - val_accuracy: 0.5690\n",
      "Epoch 38/100\n",
      "639/639 [==============================] - 32s 50ms/step - loss: 1.3484 - accuracy: 0.5412 - val_loss: 1.2752 - val_accuracy: 0.5717\n",
      "Epoch 39/100\n",
      "639/639 [==============================] - 32s 50ms/step - loss: 1.3511 - accuracy: 0.5436 - val_loss: 1.2584 - val_accuracy: 0.5751\n",
      "Epoch 40/100\n",
      "639/639 [==============================] - 34s 53ms/step - loss: 1.3518 - accuracy: 0.5401 - val_loss: 1.2651 - val_accuracy: 0.5808\n",
      "Epoch 41/100\n",
      "639/639 [==============================] - 38s 59ms/step - loss: 1.3484 - accuracy: 0.5448 - val_loss: 1.2668 - val_accuracy: 0.5825\n",
      "Epoch 42/100\n",
      "639/639 [==============================] - 34s 53ms/step - loss: 1.3393 - accuracy: 0.5461 - val_loss: 1.2413 - val_accuracy: 0.5896\n",
      "Epoch 43/100\n",
      "639/639 [==============================] - 35s 55ms/step - loss: 1.3340 - accuracy: 0.5457 - val_loss: 1.2604 - val_accuracy: 0.5758\n",
      "Epoch 44/100\n",
      "639/639 [==============================] - 34s 53ms/step - loss: 1.3384 - accuracy: 0.5462 - val_loss: 1.2530 - val_accuracy: 0.5820\n",
      "Epoch 45/100\n",
      "639/639 [==============================] - 35s 54ms/step - loss: 1.3348 - accuracy: 0.5480 - val_loss: 1.2403 - val_accuracy: 0.5873\n",
      "Epoch 46/100\n",
      "639/639 [==============================] - 32s 51ms/step - loss: 1.3335 - accuracy: 0.5486 - val_loss: 1.2447 - val_accuracy: 0.5878\n",
      "Epoch 47/100\n",
      "639/639 [==============================] - 32s 49ms/step - loss: 1.3322 - accuracy: 0.5488 - val_loss: 1.2510 - val_accuracy: 0.5858\n",
      "Epoch 48/100\n",
      "639/639 [==============================] - 32s 50ms/step - loss: 1.3284 - accuracy: 0.5498 - val_loss: 1.2476 - val_accuracy: 0.5855\n",
      "Epoch 49/100\n",
      "639/639 [==============================] - 31s 49ms/step - loss: 1.3278 - accuracy: 0.5487 - val_loss: 1.2678 - val_accuracy: 0.5687\n",
      "Epoch 50/100\n",
      "639/639 [==============================] - 33s 51ms/step - loss: 1.3268 - accuracy: 0.5524 - val_loss: 1.2592 - val_accuracy: 0.5832\n",
      "Epoch 51/100\n",
      "639/639 [==============================] - 31s 49ms/step - loss: 1.3242 - accuracy: 0.5554 - val_loss: 1.2188 - val_accuracy: 0.5952\n",
      "Epoch 52/100\n",
      "639/639 [==============================] - 32s 50ms/step - loss: 1.3191 - accuracy: 0.5545 - val_loss: 1.2208 - val_accuracy: 0.5995\n",
      "Epoch 53/100\n",
      "639/639 [==============================] - 31s 49ms/step - loss: 1.3216 - accuracy: 0.5548 - val_loss: 1.2416 - val_accuracy: 0.5869\n",
      "Epoch 54/100\n",
      "639/639 [==============================] - 32s 49ms/step - loss: 1.3146 - accuracy: 0.5541 - val_loss: 1.2304 - val_accuracy: 0.5907\n",
      "Epoch 55/100\n",
      "639/639 [==============================] - 32s 50ms/step - loss: 1.3136 - accuracy: 0.5577 - val_loss: 1.2237 - val_accuracy: 0.5948\n",
      "Epoch 56/100\n",
      "639/639 [==============================] - 32s 50ms/step - loss: 1.3163 - accuracy: 0.5578 - val_loss: 1.2349 - val_accuracy: 0.5867\n",
      "Epoch 57/100\n",
      "639/639 [==============================] - 32s 50ms/step - loss: 1.3158 - accuracy: 0.5575 - val_loss: 1.2099 - val_accuracy: 0.6007\n",
      "Epoch 58/100\n",
      "639/639 [==============================] - 33s 51ms/step - loss: 1.3085 - accuracy: 0.5555 - val_loss: 1.2249 - val_accuracy: 0.5984\n",
      "Epoch 59/100\n",
      "639/639 [==============================] - 32s 50ms/step - loss: 1.3114 - accuracy: 0.5592 - val_loss: 1.2127 - val_accuracy: 0.6057\n",
      "Epoch 60/100\n",
      "639/639 [==============================] - 31s 49ms/step - loss: 1.3115 - accuracy: 0.5586 - val_loss: 1.2698 - val_accuracy: 0.5909\n",
      "Epoch 61/100\n",
      "639/639 [==============================] - 32s 50ms/step - loss: 1.3057 - accuracy: 0.5594 - val_loss: 1.1915 - val_accuracy: 0.6042\n",
      "Epoch 62/100\n",
      "639/639 [==============================] - 32s 50ms/step - loss: 1.3022 - accuracy: 0.5597 - val_loss: 1.2206 - val_accuracy: 0.5952\n",
      "Epoch 63/100\n",
      "639/639 [==============================] - 32s 50ms/step - loss: 1.3065 - accuracy: 0.5591 - val_loss: 1.2488 - val_accuracy: 0.5883\n",
      "Epoch 64/100\n",
      "639/639 [==============================] - 32s 50ms/step - loss: 1.2960 - accuracy: 0.5652 - val_loss: 1.2205 - val_accuracy: 0.5984\n",
      "Epoch 65/100\n",
      "639/639 [==============================] - 32s 49ms/step - loss: 1.3024 - accuracy: 0.5640 - val_loss: 1.2304 - val_accuracy: 0.5935\n",
      "Epoch 66/100\n",
      "639/639 [==============================] - 32s 50ms/step - loss: 1.2982 - accuracy: 0.5658 - val_loss: 1.2555 - val_accuracy: 0.5782\n",
      "Epoch 67/100\n",
      "639/639 [==============================] - 32s 50ms/step - loss: 1.2959 - accuracy: 0.5655 - val_loss: 1.2600 - val_accuracy: 0.5718\n",
      "Epoch 68/100\n",
      "639/639 [==============================] - 32s 50ms/step - loss: 1.2980 - accuracy: 0.5646 - val_loss: 1.2452 - val_accuracy: 0.5865\n",
      "Epoch 69/100\n",
      "639/639 [==============================] - 32s 50ms/step - loss: 1.2997 - accuracy: 0.5659 - val_loss: 1.1870 - val_accuracy: 0.6131\n",
      "Epoch 70/100\n",
      "639/639 [==============================] - 32s 50ms/step - loss: 1.2968 - accuracy: 0.5671 - val_loss: 1.2177 - val_accuracy: 0.6010\n",
      "Epoch 71/100\n",
      "639/639 [==============================] - 31s 49ms/step - loss: 1.2937 - accuracy: 0.5660 - val_loss: 1.2112 - val_accuracy: 0.5952\n",
      "Epoch 72/100\n",
      "639/639 [==============================] - 32s 50ms/step - loss: 1.2968 - accuracy: 0.5677 - val_loss: 1.2280 - val_accuracy: 0.5983\n",
      "Epoch 73/100\n",
      "639/639 [==============================] - 32s 51ms/step - loss: 1.2968 - accuracy: 0.5660 - val_loss: 1.2299 - val_accuracy: 0.6008\n",
      "Epoch 74/100\n",
      "639/639 [==============================] - 33s 51ms/step - loss: 1.3002 - accuracy: 0.5692 - val_loss: 1.2157 - val_accuracy: 0.5938\n",
      "Epoch 75/100\n",
      "639/639 [==============================] - 31s 49ms/step - loss: 1.2871 - accuracy: 0.5721 - val_loss: 1.1747 - val_accuracy: 0.6159\n",
      "Epoch 76/100\n",
      "639/639 [==============================] - 32s 50ms/step - loss: 1.2906 - accuracy: 0.5728 - val_loss: 1.2028 - val_accuracy: 0.6107\n",
      "Epoch 77/100\n",
      "639/639 [==============================] - 32s 51ms/step - loss: 1.2925 - accuracy: 0.5719 - val_loss: 1.1999 - val_accuracy: 0.6080\n",
      "Epoch 78/100\n",
      "639/639 [==============================] - 33s 51ms/step - loss: 1.2851 - accuracy: 0.5731 - val_loss: 1.1963 - val_accuracy: 0.6128\n",
      "Epoch 79/100\n",
      "639/639 [==============================] - 33s 51ms/step - loss: 1.2911 - accuracy: 0.5706 - val_loss: 1.2294 - val_accuracy: 0.5939\n",
      "Epoch 80/100\n",
      "639/639 [==============================] - 32s 51ms/step - loss: 1.2803 - accuracy: 0.5737 - val_loss: 1.2065 - val_accuracy: 0.6048\n",
      "Epoch 81/100\n",
      "639/639 [==============================] - 32s 49ms/step - loss: 1.2804 - accuracy: 0.5737 - val_loss: 1.1781 - val_accuracy: 0.6172\n",
      "Epoch 82/100\n",
      "639/639 [==============================] - 32s 50ms/step - loss: 1.2803 - accuracy: 0.5761 - val_loss: 1.1856 - val_accuracy: 0.6139\n",
      "Epoch 83/100\n",
      "639/639 [==============================] - 33s 51ms/step - loss: 1.2785 - accuracy: 0.5775 - val_loss: 1.1656 - val_accuracy: 0.6226\n",
      "Epoch 84/100\n",
      "639/639 [==============================] - 32s 50ms/step - loss: 1.2796 - accuracy: 0.5742 - val_loss: 1.2440 - val_accuracy: 0.5861\n",
      "Epoch 85/100\n",
      "639/639 [==============================] - 32s 50ms/step - loss: 1.2762 - accuracy: 0.5767 - val_loss: 1.1918 - val_accuracy: 0.6073\n",
      "Epoch 86/100\n",
      "639/639 [==============================] - 32s 50ms/step - loss: 1.2713 - accuracy: 0.5806 - val_loss: 1.1654 - val_accuracy: 0.6266\n",
      "Epoch 87/100\n",
      "639/639 [==============================] - 31s 48ms/step - loss: 1.2788 - accuracy: 0.5757 - val_loss: 1.1625 - val_accuracy: 0.6224\n",
      "Epoch 88/100\n",
      "639/639 [==============================] - 31s 49ms/step - loss: 1.2720 - accuracy: 0.5789 - val_loss: 1.1964 - val_accuracy: 0.6091\n",
      "Epoch 89/100\n",
      "639/639 [==============================] - 31s 49ms/step - loss: 1.2718 - accuracy: 0.5797 - val_loss: 1.1814 - val_accuracy: 0.6181\n",
      "Epoch 90/100\n",
      "639/639 [==============================] - 31s 49ms/step - loss: 1.2681 - accuracy: 0.5799 - val_loss: 1.1944 - val_accuracy: 0.6071\n",
      "Epoch 91/100\n",
      "639/639 [==============================] - 31s 49ms/step - loss: 1.2660 - accuracy: 0.5815 - val_loss: 1.1859 - val_accuracy: 0.6083\n",
      "Epoch 92/100\n",
      "639/639 [==============================] - 31s 49ms/step - loss: 1.2697 - accuracy: 0.5814 - val_loss: 1.1675 - val_accuracy: 0.6191\n",
      "Epoch 93/100\n",
      "639/639 [==============================] - 31s 49ms/step - loss: 1.2671 - accuracy: 0.5823 - val_loss: 1.1709 - val_accuracy: 0.6267\n",
      "Epoch 94/100\n",
      "639/639 [==============================] - 34s 53ms/step - loss: 1.2710 - accuracy: 0.5800 - val_loss: 1.1822 - val_accuracy: 0.6175\n",
      "Epoch 95/100\n",
      "639/639 [==============================] - 34s 52ms/step - loss: 1.2641 - accuracy: 0.5853 - val_loss: 1.1887 - val_accuracy: 0.6198\n",
      "Epoch 96/100\n",
      "639/639 [==============================] - 32s 49ms/step - loss: 1.2638 - accuracy: 0.5817 - val_loss: 1.1942 - val_accuracy: 0.6176\n",
      "Epoch 97/100\n",
      "639/639 [==============================] - 30s 47ms/step - loss: 1.2622 - accuracy: 0.5832 - val_loss: 1.1650 - val_accuracy: 0.6226\n",
      "Epoch 98/100\n",
      "639/639 [==============================] - 30s 48ms/step - loss: 1.2644 - accuracy: 0.5847 - val_loss: 1.1778 - val_accuracy: 0.6162\n",
      "Epoch 99/100\n",
      "639/639 [==============================] - 30s 48ms/step - loss: 1.2635 - accuracy: 0.5854 - val_loss: 1.1727 - val_accuracy: 0.6267\n",
      "Epoch 100/100\n",
      "639/639 [==============================] - 31s 48ms/step - loss: 1.2627 - accuracy: 0.5872 - val_loss: 1.1605 - val_accuracy: 0.6250\n"
     ]
    }
   ],
   "source": [
    "# Train the model\n",
    "history = model.fit(X_train_reshaped, y_train, epochs=100, batch_size=64, validation_data=(X_test_reshaped, y_test),verbose=1)"
   ]
  },
  {
   "cell_type": "code",
   "execution_count": 25,
   "metadata": {},
   "outputs": [
    {
     "name": "stdout",
     "output_type": "stream",
     "text": [
      "426/426 [==============================] - 3s 7ms/step - loss: 1.1605 - accuracy: 0.6250\n",
      "Test accuracy: 0.6249724626541138\n"
     ]
    }
   ],
   "source": [
    "# Evaluate the model\n",
    "score = model.evaluate(X_test_reshaped, y_test, verbose=1)\n",
    "print(f\"Test accuracy: {score[1]}\")"
   ]
  },
  {
   "cell_type": "code",
   "execution_count": 26,
   "metadata": {},
   "outputs": [
    {
     "data": {
      "image/png": "[encoded data removed]",
      "text/plain": [
       "<Figure size 640x480 with 1 Axes>"
      ]
     },
     "metadata": {},
     "output_type": "display_data"
    }
   ],
   "source": [
    "# Plot the training history\n",
    "plt.plot(history.history['accuracy'])\n",
    "plt.plot(history.history['val_accuracy'])\n",
    "plt.title('Model accuracy')\n",
    "plt.ylabel('Accuracy')\n",
    "plt.xlabel('Epoch')\n",
    "plt.legend(['Train', 'Test'], loc='upper left')\n",
    "plt.show()"
   ]
  },
  {
   "cell_type": "code",
   "execution_count": 27,
   "metadata": {},
   "outputs": [
    {
     "data": {
      "image/png": "[encoded data removed]",
      "text/plain": [
       "<Figure size 640x480 with 1 Axes>"
      ]
     },
     "metadata": {},
     "output_type": "display_data"
    }
   ],
   "source": [
    "plt.plot(history.history['loss'])\n",
    "plt.plot(history.history['val_loss'])\n",
    "plt.title('Model loss')\n",
    "plt.ylabel('Loss')\n",
    "plt.xlabel('Epoch')\n",
    "plt.legend(['Train', 'Test'], loc='upper left')\n",
    "plt.show()"
   ]
  },
  {
   "cell_type": "markdown",
   "metadata": {},
   "source": [
    "**RNN model**"
   ]
  },
  {
   "cell_type": "code",
   "execution_count": 28,
   "metadata": {},
   "outputs": [],
   "source": [
    "# RNNs expect input data to be 3D tensors of shape (samples, timesteps, features)\n",
    "timesteps = 40  # Number of MFCC features\n",
    "\n",
    "# Reshape features for RNN input\n",
    "X_train_rnn = np.expand_dims(X_train, axis=-1)\n",
    "X_val_rnn = np.expand_dims(X_test, axis=-1)"
   ]
  },
  {
   "cell_type": "code",
   "execution_count": 29,
   "metadata": {},
   "outputs": [],
   "source": [
    "from tensorflow.keras.models import Sequential\n",
    "from tensorflow.keras.layers import LSTM, Dense, Dropout, BatchNormalization\n",
    "from tensorflow.keras.optimizers import Adam"
   ]
  },
  {
   "cell_type": "code",
   "execution_count": 30,
   "metadata": {},
   "outputs": [],
   "source": [
    "def build_rnn_model(input_shape, num_classes):\n",
    "    model = Sequential()\n",
    "    model.add(LSTM(128, return_sequences=True, input_shape=input_shape))\n",
    "    model.add(Dropout(0.3))\n",
    "    model.add(BatchNormalization())\n",
    "    \n",
    "    model.add(LSTM(128, return_sequences=True))\n",
    "    model.add(Dropout(0.3))\n",
    "    model.add(BatchNormalization())\n",
    "    \n",
    "    model.add(LSTM(128))\n",
    "    model.add(Dropout(0.3))\n",
    "    model.add(BatchNormalization())\n",
    "    \n",
    "    model.add(Dense(128, activation='relu'))\n",
    "    model.add(Dropout(0.3))\n",
    "    \n",
    "    model.add(Dense(num_classes, activation='softmax'))\n",
    "    \n",
    "    model.compile(loss='categorical_crossentropy', optimizer=Adam(lr=0.001), metrics=['accuracy'])\n",
    "    \n",
    "    return model"
   ]
  },
  {
   "cell_type": "code",
   "execution_count": 31,
   "metadata": {},
   "outputs": [],
   "source": [
    "# Define input shape\n",
    "input_shape_rnn = (timesteps, 1)\n",
    "num_classes = y_train.shape[1]"
   ]
  },
  {
   "cell_type": "code",
   "execution_count": 32,
   "metadata": {},
   "outputs": [
    {
     "name": "stderr",
     "output_type": "stream",
     "text": [
      "WARNING:absl:`lr` is deprecated in Keras optimizer, please use `learning_rate` or use the legacy optimizer, e.g.,tf.keras.optimizers.legacy.Adam.\n"
     ]
    },
    {
     "name": "stdout",
     "output_type": "stream",
     "text": [
      "Model: \"sequential_1\"\n",
      "_________________________________________________________________\n",
      " Layer (type)                Output Shape              Param #   \n",
      "=================================================================\n",
      " lstm_2 (LSTM)               (None, 40, 128)           66560     \n",
      "                                                                 \n",
      " dropout_7 (Dropout)         (None, 40, 128)           0         \n",
      "                                                                 \n",
      " batch_normalization_5 (Batc  (None, 40, 128)          512       \n",
      " hNormalization)                                                 \n",
      "                                                                 \n",
      " lstm_3 (LSTM)               (None, 40, 128)           131584    \n",
      "                                                                 \n",
      " dropout_8 (Dropout)         (None, 40, 128)           0         \n",
      "                                                                 \n",
      " batch_normalization_6 (Batc  (None, 40, 128)          512       \n",
      " hNormalization)                                                 \n",
      "                                                                 \n",
      " lstm_4 (LSTM)               (None, 128)               131584    \n",
      "                                                                 \n",
      " dropout_9 (Dropout)         (None, 128)               0         \n",
      "                                                                 \n",
      " batch_normalization_7 (Batc  (None, 128)              512       \n",
      " hNormalization)                                                 \n",
      "                                                                 \n",
      " dense_3 (Dense)             (None, 128)               16512     \n",
      "                                                                 \n",
      " dropout_10 (Dropout)        (None, 128)               0         \n",
      "                                                                 \n",
      " dense_4 (Dense)             (None, 6)                 774       \n",
      "                                                                 \n",
      "=================================================================\n",
      "Total params: 348,550\n",
      "Trainable params: 347,782\n",
      "Non-trainable params: 768\n",
      "_________________________________________________________________\n"
     ]
    }
   ],
   "source": [
    "# Build and train the RNN model\n",
    "rnn_model = build_rnn_model(input_shape_rnn, num_classes)\n",
    "rnn_model.summary()"
   ]
  },
  {
   "cell_type": "code",
   "execution_count": 34,
   "metadata": {},
   "outputs": [
    {
     "name": "stdout",
     "output_type": "stream",
     "text": [
      "Epoch 1/100\n",
      "639/639 [==============================] - 73s 114ms/step - loss: 1.2544 - accuracy: 0.4834 - val_loss: 1.1761 - val_accuracy: 0.5169\n",
      "Epoch 2/100\n",
      "639/639 [==============================] - 75s 117ms/step - loss: 1.1913 - accuracy: 0.5099 - val_loss: 1.2239 - val_accuracy: 0.4943\n",
      "Epoch 3/100\n",
      "639/639 [==============================] - 80s 124ms/step - loss: 1.1565 - accuracy: 0.5245 - val_loss: 1.1253 - val_accuracy: 0.5409\n",
      "Epoch 4/100\n",
      "639/639 [==============================] - 81s 127ms/step - loss: 1.1305 - accuracy: 0.5393 - val_loss: 1.1099 - val_accuracy: 0.5467\n",
      "Epoch 5/100\n",
      "639/639 [==============================] - 81s 126ms/step - loss: 1.1163 - accuracy: 0.5473 - val_loss: 1.0688 - val_accuracy: 0.5658\n",
      "Epoch 6/100\n",
      "639/639 [==============================] - 80s 125ms/step - loss: 1.0947 - accuracy: 0.5570 - val_loss: 1.1226 - val_accuracy: 0.5502\n",
      "Epoch 7/100\n",
      "639/639 [==============================] - 81s 127ms/step - loss: 1.0736 - accuracy: 0.5668 - val_loss: 1.0747 - val_accuracy: 0.5692\n",
      "Epoch 8/100\n",
      "639/639 [==============================] - 79s 124ms/step - loss: 1.0560 - accuracy: 0.5752 - val_loss: 1.0469 - val_accuracy: 0.5806\n",
      "Epoch 9/100\n",
      "639/639 [==============================] - 79s 124ms/step - loss: 1.0376 - accuracy: 0.5839 - val_loss: 1.0199 - val_accuracy: 0.5847\n",
      "Epoch 10/100\n",
      "639/639 [==============================] - 79s 124ms/step - loss: 1.0195 - accuracy: 0.5872 - val_loss: 1.0037 - val_accuracy: 0.5960\n",
      "Epoch 11/100\n",
      "639/639 [==============================] - 79s 123ms/step - loss: 1.0037 - accuracy: 0.5961 - val_loss: 1.0634 - val_accuracy: 0.5705\n",
      "Epoch 12/100\n",
      "639/639 [==============================] - 81s 127ms/step - loss: 0.9860 - accuracy: 0.6069 - val_loss: 0.9659 - val_accuracy: 0.6083\n",
      "Epoch 13/100\n",
      "639/639 [==============================] - 81s 126ms/step - loss: 0.9686 - accuracy: 0.6118 - val_loss: 0.9944 - val_accuracy: 0.5999\n",
      "Epoch 14/100\n",
      "639/639 [==============================] - 81s 126ms/step - loss: 0.9499 - accuracy: 0.6211 - val_loss: 0.9553 - val_accuracy: 0.6163\n",
      "Epoch 15/100\n",
      "639/639 [==============================] - 80s 125ms/step - loss: 0.9320 - accuracy: 0.6280 - val_loss: 1.0621 - val_accuracy: 0.5879\n",
      "Epoch 16/100\n",
      "639/639 [==============================] - 81s 128ms/step - loss: 0.9232 - accuracy: 0.6357 - val_loss: 0.9480 - val_accuracy: 0.6253\n",
      "Epoch 17/100\n",
      "639/639 [==============================] - 87s 136ms/step - loss: 0.9019 - accuracy: 0.6415 - val_loss: 0.9094 - val_accuracy: 0.6329\n",
      "Epoch 18/100\n",
      "639/639 [==============================] - 83s 129ms/step - loss: 0.8814 - accuracy: 0.6509 - val_loss: 0.9129 - val_accuracy: 0.6402\n",
      "Epoch 19/100\n",
      "639/639 [==============================] - 76s 118ms/step - loss: 0.8642 - accuracy: 0.6610 - val_loss: 0.9052 - val_accuracy: 0.6443\n",
      "Epoch 20/100\n",
      "639/639 [==============================] - 82s 129ms/step - loss: 0.8424 - accuracy: 0.6668 - val_loss: 0.9033 - val_accuracy: 0.6499\n",
      "Epoch 21/100\n",
      "639/639 [==============================] - 82s 129ms/step - loss: 0.8326 - accuracy: 0.6736 - val_loss: 0.8852 - val_accuracy: 0.6543\n",
      "Epoch 22/100\n",
      "639/639 [==============================] - 80s 125ms/step - loss: 0.8103 - accuracy: 0.6820 - val_loss: 0.8480 - val_accuracy: 0.6679\n",
      "Epoch 23/100\n",
      "639/639 [==============================] - 83s 129ms/step - loss: 0.7950 - accuracy: 0.6865 - val_loss: 0.8738 - val_accuracy: 0.6613\n",
      "Epoch 24/100\n",
      "639/639 [==============================] - 82s 128ms/step - loss: 0.7770 - accuracy: 0.6969 - val_loss: 0.9029 - val_accuracy: 0.6562\n",
      "Epoch 25/100\n",
      "639/639 [==============================] - 83s 129ms/step - loss: 0.7573 - accuracy: 0.7044 - val_loss: 0.8583 - val_accuracy: 0.6633\n",
      "Epoch 26/100\n",
      "639/639 [==============================] - 81s 127ms/step - loss: 0.7431 - accuracy: 0.7113 - val_loss: 0.8245 - val_accuracy: 0.6808\n",
      "Epoch 27/100\n",
      "639/639 [==============================] - 78s 123ms/step - loss: 0.7303 - accuracy: 0.7172 - val_loss: 0.8284 - val_accuracy: 0.6898\n",
      "Epoch 28/100\n",
      "639/639 [==============================] - 84s 132ms/step - loss: 0.7159 - accuracy: 0.7253 - val_loss: 0.9320 - val_accuracy: 0.6561\n",
      "Epoch 29/100\n",
      "639/639 [==============================] - 85s 134ms/step - loss: 0.7040 - accuracy: 0.7271 - val_loss: 0.8290 - val_accuracy: 0.6929\n",
      "Epoch 30/100\n",
      "639/639 [==============================] - 83s 131ms/step - loss: 0.6867 - accuracy: 0.7356 - val_loss: 0.7925 - val_accuracy: 0.7040\n",
      "Epoch 31/100\n",
      "639/639 [==============================] - 85s 133ms/step - loss: 0.6733 - accuracy: 0.7411 - val_loss: 0.7800 - val_accuracy: 0.7141\n",
      "Epoch 32/100\n",
      "639/639 [==============================] - 82s 128ms/step - loss: 0.6591 - accuracy: 0.7471 - val_loss: 0.7788 - val_accuracy: 0.7117\n",
      "Epoch 33/100\n",
      "639/639 [==============================] - 84s 131ms/step - loss: 0.6519 - accuracy: 0.7503 - val_loss: 0.7888 - val_accuracy: 0.7026\n",
      "Epoch 34/100\n",
      "639/639 [==============================] - 84s 131ms/step - loss: 0.6311 - accuracy: 0.7619 - val_loss: 0.8192 - val_accuracy: 0.7085\n",
      "Epoch 35/100\n",
      "639/639 [==============================] - 84s 132ms/step - loss: 0.6305 - accuracy: 0.7606 - val_loss: 0.7693 - val_accuracy: 0.7132\n",
      "Epoch 36/100\n",
      "639/639 [==============================] - 84s 132ms/step - loss: 0.6084 - accuracy: 0.7691 - val_loss: 0.7930 - val_accuracy: 0.7191\n",
      "Epoch 37/100\n",
      "639/639 [==============================] - 85s 134ms/step - loss: 0.5982 - accuracy: 0.7763 - val_loss: 0.7665 - val_accuracy: 0.7265\n",
      "Epoch 38/100\n",
      "639/639 [==============================] - 86s 134ms/step - loss: 0.5857 - accuracy: 0.7811 - val_loss: 0.7405 - val_accuracy: 0.7308\n",
      "Epoch 39/100\n",
      "639/639 [==============================] - 85s 133ms/step - loss: 0.5787 - accuracy: 0.7833 - val_loss: 0.7931 - val_accuracy: 0.7155\n",
      "Epoch 40/100\n",
      "639/639 [==============================] - 79s 123ms/step - loss: 0.5715 - accuracy: 0.7889 - val_loss: 0.7515 - val_accuracy: 0.7329\n",
      "Epoch 41/100\n",
      "639/639 [==============================] - 79s 124ms/step - loss: 0.5494 - accuracy: 0.7942 - val_loss: 0.7465 - val_accuracy: 0.7363\n",
      "Epoch 42/100\n",
      "639/639 [==============================] - 79s 123ms/step - loss: 0.5476 - accuracy: 0.7973 - val_loss: 0.7282 - val_accuracy: 0.7400\n",
      "Epoch 43/100\n",
      "639/639 [==============================] - 80s 125ms/step - loss: 0.5323 - accuracy: 0.8029 - val_loss: 0.7604 - val_accuracy: 0.7392\n",
      "Epoch 44/100\n",
      "639/639 [==============================] - 79s 124ms/step - loss: 0.5243 - accuracy: 0.8073 - val_loss: 0.7101 - val_accuracy: 0.7527\n",
      "Epoch 45/100\n",
      "639/639 [==============================] - 79s 124ms/step - loss: 0.5184 - accuracy: 0.8104 - val_loss: 0.7441 - val_accuracy: 0.7338\n",
      "Epoch 46/100\n",
      "639/639 [==============================] - 79s 124ms/step - loss: 0.5042 - accuracy: 0.8136 - val_loss: 0.7350 - val_accuracy: 0.7510\n",
      "Epoch 47/100\n",
      "639/639 [==============================] - 77s 121ms/step - loss: 0.4921 - accuracy: 0.8189 - val_loss: 0.7554 - val_accuracy: 0.7405\n",
      "Epoch 48/100\n",
      "639/639 [==============================] - 74s 116ms/step - loss: 0.4911 - accuracy: 0.8201 - val_loss: 0.7311 - val_accuracy: 0.7542\n",
      "Epoch 49/100\n",
      "639/639 [==============================] - 74s 116ms/step - loss: 0.4781 - accuracy: 0.8254 - val_loss: 0.7207 - val_accuracy: 0.7621\n",
      "Epoch 50/100\n",
      "639/639 [==============================] - 74s 116ms/step - loss: 0.4719 - accuracy: 0.8278 - val_loss: 0.7662 - val_accuracy: 0.7473\n",
      "Epoch 51/100\n",
      "639/639 [==============================] - 74s 116ms/step - loss: 0.4630 - accuracy: 0.8322 - val_loss: 0.7377 - val_accuracy: 0.7539\n",
      "Epoch 52/100\n",
      "639/639 [==============================] - 74s 116ms/step - loss: 0.4540 - accuracy: 0.8352 - val_loss: 0.7305 - val_accuracy: 0.7578\n",
      "Epoch 53/100\n",
      "639/639 [==============================] - 74s 116ms/step - loss: 0.4415 - accuracy: 0.8376 - val_loss: 0.7340 - val_accuracy: 0.7565\n",
      "Epoch 54/100\n",
      "639/639 [==============================] - 75s 117ms/step - loss: 0.4400 - accuracy: 0.8392 - val_loss: 0.7315 - val_accuracy: 0.7653\n",
      "Epoch 55/100\n",
      "639/639 [==============================] - 75s 117ms/step - loss: 0.4285 - accuracy: 0.8452 - val_loss: 0.7254 - val_accuracy: 0.7655\n",
      "Epoch 56/100\n",
      "639/639 [==============================] - 75s 117ms/step - loss: 0.4236 - accuracy: 0.8460 - val_loss: 0.7312 - val_accuracy: 0.7637\n",
      "Epoch 57/100\n",
      "639/639 [==============================] - 75s 117ms/step - loss: 0.4209 - accuracy: 0.8491 - val_loss: 0.7087 - val_accuracy: 0.7706\n",
      "Epoch 58/100\n",
      "639/639 [==============================] - 75s 117ms/step - loss: 0.4151 - accuracy: 0.8485 - val_loss: 0.7593 - val_accuracy: 0.7553\n",
      "Epoch 59/100\n",
      "639/639 [==============================] - 75s 118ms/step - loss: 0.4037 - accuracy: 0.8568 - val_loss: 0.7676 - val_accuracy: 0.7651\n",
      "Epoch 60/100\n",
      "639/639 [==============================] - 76s 119ms/step - loss: 0.3949 - accuracy: 0.8574 - val_loss: 0.7039 - val_accuracy: 0.7768\n",
      "Epoch 61/100\n",
      "639/639 [==============================] - 76s 119ms/step - loss: 0.3892 - accuracy: 0.8616 - val_loss: 0.7347 - val_accuracy: 0.7729\n",
      "Epoch 62/100\n",
      "639/639 [==============================] - 75s 118ms/step - loss: 0.3862 - accuracy: 0.8647 - val_loss: 0.7265 - val_accuracy: 0.7670\n",
      "Epoch 63/100\n",
      "639/639 [==============================] - 75s 117ms/step - loss: 0.3831 - accuracy: 0.8651 - val_loss: 0.7462 - val_accuracy: 0.7768\n",
      "Epoch 64/100\n",
      "639/639 [==============================] - 75s 117ms/step - loss: 0.3786 - accuracy: 0.8663 - val_loss: 0.7601 - val_accuracy: 0.7672\n",
      "Epoch 65/100\n",
      "639/639 [==============================] - 74s 115ms/step - loss: 0.3699 - accuracy: 0.8688 - val_loss: 0.7194 - val_accuracy: 0.7809\n",
      "Epoch 66/100\n",
      "639/639 [==============================] - 77s 120ms/step - loss: 0.3727 - accuracy: 0.8685 - val_loss: 0.7164 - val_accuracy: 0.7849\n",
      "Epoch 67/100\n",
      "639/639 [==============================] - 77s 120ms/step - loss: 0.3638 - accuracy: 0.8700 - val_loss: 0.7700 - val_accuracy: 0.7606\n",
      "Epoch 68/100\n",
      "639/639 [==============================] - 76s 118ms/step - loss: 0.3534 - accuracy: 0.8749 - val_loss: 0.7201 - val_accuracy: 0.7813\n",
      "Epoch 69/100\n",
      "639/639 [==============================] - 75s 118ms/step - loss: 0.3502 - accuracy: 0.8780 - val_loss: 0.6828 - val_accuracy: 0.7851\n",
      "Epoch 70/100\n",
      "639/639 [==============================] - 74s 116ms/step - loss: 0.3462 - accuracy: 0.8769 - val_loss: 0.6936 - val_accuracy: 0.7901\n",
      "Epoch 71/100\n",
      "639/639 [==============================] - 75s 117ms/step - loss: 0.3432 - accuracy: 0.8794 - val_loss: 0.7314 - val_accuracy: 0.7789\n",
      "Epoch 72/100\n",
      "639/639 [==============================] - 74s 116ms/step - loss: 0.3359 - accuracy: 0.8807 - val_loss: 0.7099 - val_accuracy: 0.7861\n",
      "Epoch 73/100\n",
      "639/639 [==============================] - 74s 117ms/step - loss: 0.3267 - accuracy: 0.8858 - val_loss: 0.7256 - val_accuracy: 0.7821\n",
      "Epoch 74/100\n",
      "639/639 [==============================] - 74s 116ms/step - loss: 0.3298 - accuracy: 0.8841 - val_loss: 0.6921 - val_accuracy: 0.7931\n",
      "Epoch 75/100\n",
      "639/639 [==============================] - 75s 117ms/step - loss: 0.3266 - accuracy: 0.8858 - val_loss: 0.6954 - val_accuracy: 0.7906\n",
      "Epoch 76/100\n",
      "639/639 [==============================] - 74s 116ms/step - loss: 0.3181 - accuracy: 0.8879 - val_loss: 0.7426 - val_accuracy: 0.7848\n",
      "Epoch 77/100\n",
      "639/639 [==============================] - 75s 117ms/step - loss: 0.3040 - accuracy: 0.8924 - val_loss: 0.7370 - val_accuracy: 0.7872\n",
      "Epoch 78/100\n",
      "639/639 [==============================] - 79s 124ms/step - loss: 0.3099 - accuracy: 0.8928 - val_loss: 0.6876 - val_accuracy: 0.8020\n",
      "Epoch 79/100\n",
      "639/639 [==============================] - 74s 116ms/step - loss: 0.3100 - accuracy: 0.8923 - val_loss: 0.7091 - val_accuracy: 0.7901\n",
      "Epoch 80/100\n",
      "639/639 [==============================] - 74s 115ms/step - loss: 0.3071 - accuracy: 0.8936 - val_loss: 0.7013 - val_accuracy: 0.7958\n",
      "Epoch 81/100\n",
      "639/639 [==============================] - 74s 117ms/step - loss: 0.2999 - accuracy: 0.8967 - val_loss: 0.7079 - val_accuracy: 0.7906\n",
      "Epoch 82/100\n",
      "639/639 [==============================] - 74s 116ms/step - loss: 0.2942 - accuracy: 0.8990 - val_loss: 0.7198 - val_accuracy: 0.7920\n",
      "Epoch 83/100\n",
      "639/639 [==============================] - 75s 117ms/step - loss: 0.2954 - accuracy: 0.8992 - val_loss: 0.7094 - val_accuracy: 0.7962\n",
      "Epoch 84/100\n",
      "639/639 [==============================] - 74s 117ms/step - loss: 0.2873 - accuracy: 0.9017 - val_loss: 0.7437 - val_accuracy: 0.7919\n",
      "Epoch 85/100\n",
      "639/639 [==============================] - 75s 117ms/step - loss: 0.2895 - accuracy: 0.9010 - val_loss: 0.7163 - val_accuracy: 0.7979\n",
      "Epoch 86/100\n",
      "639/639 [==============================] - 75s 118ms/step - loss: 0.2826 - accuracy: 0.9021 - val_loss: 0.6993 - val_accuracy: 0.7977\n",
      "Epoch 87/100\n",
      "639/639 [==============================] - 76s 118ms/step - loss: 0.2821 - accuracy: 0.9017 - val_loss: 0.7277 - val_accuracy: 0.7868\n",
      "Epoch 88/100\n",
      "639/639 [==============================] - 75s 117ms/step - loss: 0.2758 - accuracy: 0.9059 - val_loss: 0.7208 - val_accuracy: 0.7981\n",
      "Epoch 89/100\n",
      "639/639 [==============================] - 74s 116ms/step - loss: 0.2766 - accuracy: 0.9044 - val_loss: 0.7159 - val_accuracy: 0.7956\n",
      "Epoch 90/100\n",
      "639/639 [==============================] - 75s 118ms/step - loss: 0.2722 - accuracy: 0.9065 - val_loss: 0.7367 - val_accuracy: 0.7963\n",
      "Epoch 91/100\n",
      "639/639 [==============================] - 74s 116ms/step - loss: 0.2612 - accuracy: 0.9109 - val_loss: 0.6813 - val_accuracy: 0.8009\n",
      "Epoch 92/100\n",
      "639/639 [==============================] - 74s 117ms/step - loss: 0.2629 - accuracy: 0.9106 - val_loss: 0.7133 - val_accuracy: 0.7978\n",
      "Epoch 93/100\n",
      "639/639 [==============================] - 74s 116ms/step - loss: 0.2479 - accuracy: 0.9151 - val_loss: 0.7015 - val_accuracy: 0.8017\n",
      "Epoch 94/100\n",
      "639/639 [==============================] - 75s 117ms/step - loss: 0.2572 - accuracy: 0.9126 - val_loss: 0.7067 - val_accuracy: 0.8020\n",
      "Epoch 95/100\n",
      "639/639 [==============================] - 76s 119ms/step - loss: 0.2562 - accuracy: 0.9126 - val_loss: 0.7411 - val_accuracy: 0.7959\n",
      "Epoch 96/100\n",
      "639/639 [==============================] - 75s 117ms/step - loss: 0.2538 - accuracy: 0.9129 - val_loss: 0.7251 - val_accuracy: 0.7986\n",
      "Epoch 97/100\n",
      "639/639 [==============================] - 74s 116ms/step - loss: 0.2545 - accuracy: 0.9139 - val_loss: 0.6973 - val_accuracy: 0.8120\n",
      "Epoch 98/100\n",
      "639/639 [==============================] - 74s 116ms/step - loss: 0.2459 - accuracy: 0.9159 - val_loss: 0.7464 - val_accuracy: 0.7949\n",
      "Epoch 99/100\n",
      "639/639 [==============================] - 75s 117ms/step - loss: 0.2421 - accuracy: 0.9182 - val_loss: 0.7172 - val_accuracy: 0.8059\n",
      "Epoch 100/100\n",
      "639/639 [==============================] - 75s 118ms/step - loss: 0.2413 - accuracy: 0.9166 - val_loss: 0.7453 - val_accuracy: 0.8033\n"
     ]
    }
   ],
   "source": [
    "# Train the model\n",
    "rnn_history = rnn_model.fit(X_train_rnn, y_train, validation_data=(X_val_rnn, y_test), epochs=100, batch_size=64)"
   ]
  },
  {
   "cell_type": "code",
   "execution_count": 35,
   "metadata": {},
   "outputs": [
    {
     "data": {
      "image/png": "[encoded data removed]",
      "text/plain": [
       "<Figure size 640x480 with 1 Axes>"
      ]
     },
     "metadata": {},
     "output_type": "display_data"
    }
   ],
   "source": [
    "# # Plot the training history\n",
    "plt.plot(rnn_history.history['accuracy'])\n",
    "plt.plot(rnn_history.history['val_accuracy'])\n",
    "plt.title('Model accuracy')\n",
    "plt.ylabel('Accuracy')\n",
    "plt.xlabel('Epoch')\n",
    "plt.legend(['Train', 'Test'], loc='upper left')\n",
    "plt.show()"
   ]
  },
  {
   "cell_type": "code",
   "execution_count": 36,
   "metadata": {},
   "outputs": [
    {
     "data": {
      "image/png": "[encoded data removed]",
      "text/plain": [
       "<Figure size 640x480 with 1 Axes>"
      ]
     },
     "metadata": {},
     "output_type": "display_data"
    }
   ],
   "source": [
    "plt.plot(rnn_history.history['loss'])\n",
    "plt.plot(rnn_history.history['val_loss'])\n",
    "plt.title('Model loss')\n",
    "plt.ylabel('Loss')\n",
    "plt.xlabel('Epoch')\n",
    "plt.legend(['Train', 'Test'], loc='upper left')\n",
    "plt.show()"
   ]
  },
  {
   "cell_type": "code",
   "execution_count": 37,
   "metadata": {},
   "outputs": [
    {
     "name": "stdout",
     "output_type": "stream",
     "text": [
      "426/426 [==============================] - 7s 17ms/step - loss: 0.7453 - accuracy: 0.8033\n",
      "RNN Model :- Test accuracy: 0.8033472895622253\n"
     ]
    }
   ],
   "source": [
    "# Evaluate the model\n",
    "score = rnn_model.evaluate(X_test_reshaped, y_test, verbose=1)\n",
    "print(f\"RNN Model :- Test accuracy: {score[1]}\")"
   ]
  },
  {
   "cell_type": "markdown",
   "metadata": {},
   "source": [
    "**RNN model:**\n",
    "\n",
    "Accuracy = 91.66%\n",
    "\n",
    "Validation Accuracy = 80.33%"
   ]
  },
  {
   "cell_type": "markdown",
   "metadata": {},
   "source": [
    "**We are going to choose RNN model for our project further**"
   ]
  },
  {
   "cell_type": "code",
   "execution_count": 38,
   "metadata": {},
   "outputs": [],
   "source": [
    "# Save the trained RNN model\n",
    "rnn_model_path = 'trained_rnn_model01.h5'\n",
    "rnn_model.save(rnn_model_path)"
   ]
  }
 ],
 "metadata": {
  "kernelspec": {
   "display_name": "Python 3",
   "language": "python",
   "name": "python3"
  },
  "language_info": {
   "codemirror_mode": {
    "name": "ipython",
    "version": 3
   },
   "file_extension": ".py",
   "mimetype": "text/x-python",
   "name": "python",
   "nbconvert_exporter": "python",
   "pygments_lexer": "ipython3",
   "version": "3.11.4"
  }
 },
 "nbformat": 4,
 "nbformat_minor": 2
}
